{
 "cells": [
  {
   "cell_type": "code",
   "execution_count": 1,
   "id": "f663d6b5",
   "metadata": {},
   "outputs": [
    {
     "name": "stdout",
     "output_type": "stream",
     "text": [
      "enter the value : 2\n",
      "enter the value : 5\n",
      "multiplication =  10 \n",
      " division =  0.4\n"
     ]
    }
   ],
   "source": [
    "#1 Write a program to accept two numbers from the user and calculate multiplication, division\n",
    "num1=int(input(\"enter the value : \"))\n",
    "num2=int(input(\"enter the value : \"))\n",
    "print(\"multiplication = \",num1*num2 , \"\\n\",\"division = \", num1/num2)"
   ]
  },
  {
   "cell_type": "code",
   "execution_count": 6,
   "id": "851c5ea6",
   "metadata": {},
   "outputs": [
    {
     "name": "stdout",
     "output_type": "stream",
     "text": [
      "Give a String: SONU\n",
      "SN\n"
     ]
    }
   ],
   "source": [
    "# Write a python program to print the characters from a string that are present at an even index\n",
    "x=input(\"Give a String: \")\n",
    "a=\"\"\n",
    "for y in range(0,len(x)):\n",
    "    if y%2==0:\n",
    "        a+=x[y]\n",
    "    else:\n",
    "        continue\n",
    "print(a)\n"
   ]
  },
  {
   "cell_type": "code",
   "execution_count": null,
   "id": "a8d1763f",
   "metadata": {},
   "outputs": [],
   "source": []
  },
  {
   "cell_type": "code",
   "execution_count": null,
   "id": "5c42278d",
   "metadata": {},
   "outputs": [],
   "source": [
    "#write a python program to print the characters from a string that are present at an odd index"
   ]
  },
  {
   "cell_type": "code",
   "execution_count": 7,
   "id": "664550eb",
   "metadata": {},
   "outputs": [
    {
     "name": "stdout",
     "output_type": "stream",
     "text": [
      "Give a String: SONU\n",
      "OU\n"
     ]
    }
   ],
   "source": [
    "x=input(\"Give a String: \")\n",
    "a=\"\"\n",
    "for y in range(0,len(x)):\n",
    "    if y%2!=0:\n",
    "        a+=x[y]\n",
    "    else:\n",
    "        continue\n",
    "print(a)"
   ]
  },
  {
   "cell_type": "code",
   "execution_count": null,
   "id": "234ff0c0",
   "metadata": {},
   "outputs": [],
   "source": []
  },
  {
   "cell_type": "code",
   "execution_count": null,
   "id": "ac786b16",
   "metadata": {},
   "outputs": [],
   "source": [
    "# Write a python program which will print the sum of the two numbers if the two numbers are even or\n",
    "it will print the difference"
   ]
  },
  {
   "cell_type": "code",
   "execution_count": 8,
   "id": "12c59fd6",
   "metadata": {},
   "outputs": [
    {
     "name": "stdout",
     "output_type": "stream",
     "text": [
      "enter the first number : 5\n",
      "enter the second number: 5\n",
      "sub= 0\n"
     ]
    }
   ],
   "source": [
    "num1=int(input(\"enter the first number : \"))\n",
    "num2=int(input(\"enter the second number: \"))\n",
    "if num1%2==0 and num2%2==0:\n",
    "     print(\"sum=\",num1+num2)\n",
    "else:\n",
    "    print(\"sub=\",num1-num2)"
   ]
  },
  {
   "cell_type": "code",
   "execution_count": null,
   "id": "5d89e419",
   "metadata": {},
   "outputs": [],
   "source": []
  },
  {
   "cell_type": "code",
   "execution_count": null,
   "id": "824b211a",
   "metadata": {},
   "outputs": [],
   "source": [
    "# Write a python program to convert all even indexed alphabets to upper and odd indexed char"
   ]
  },
  {
   "cell_type": "code",
   "execution_count": 9,
   "id": "b0d006ec",
   "metadata": {},
   "outputs": [
    {
     "name": "stdout",
     "output_type": "stream",
     "text": [
      "enter a word to convert : VIGNESH\n",
      "ViGnEsH\n"
     ]
    }
   ],
   "source": [
    "a=input(\"enter a word to convert : \")\n",
    "y=list(a)\n",
    "b=\"\"\n",
    "for x in range(0,len(a)):\n",
    "    if x%2==0:\n",
    "        b+=str(a[x]).upper()\n",
    "    else :\n",
    "            b+=str(a[x]).lower()\n",
    "print (b)    "
   ]
  },
  {
   "cell_type": "code",
   "execution_count": null,
   "id": "7130f2d6",
   "metadata": {},
   "outputs": [],
   "source": []
  },
  {
   "cell_type": "code",
   "execution_count": null,
   "id": "26dfd33b",
   "metadata": {},
   "outputs": [],
   "source": [
    "# Write a python program which will print True if the input number is divisible by 5 or else False"
   ]
  },
  {
   "cell_type": "code",
   "execution_count": 10,
   "id": "73581f8c",
   "metadata": {},
   "outputs": [
    {
     "name": "stdout",
     "output_type": "stream",
     "text": [
      "enter the number : 5\n",
      "True\n"
     ]
    }
   ],
   "source": [
    "x=int(input(\"enter the number : \"))\n",
    "if x%5==0:\n",
    "    print(True)\n",
    "else:\n",
    "    print(False)"
   ]
  },
  {
   "cell_type": "code",
   "execution_count": null,
   "id": "8b365e23",
   "metadata": {},
   "outputs": [],
   "source": []
  },
  {
   "cell_type": "code",
   "execution_count": null,
   "id": "541d1ced",
   "metadata": {},
   "outputs": [],
   "source": [
    "# Given two integer numbers return their product only if the product is greater than 1000,\n",
    "else return their sum"
   ]
  },
  {
   "cell_type": "code",
   "execution_count": 12,
   "id": "199f33fd",
   "metadata": {},
   "outputs": [
    {
     "name": "stdout",
     "output_type": "stream",
     "text": [
      "enter the number : 99999\n",
      "enter the number : 88888\n",
      "8888711112\n"
     ]
    }
   ],
   "source": [
    "num1=int(input(\"enter the number : \"))\n",
    "num2=int(input(\"enter the number : \"))\n",
    "product=num1*num2\n",
    "if product > 1000:\n",
    "    print(product)\n",
    "else:\n",
    "    print(\"sum = \",x+y)"
   ]
  },
  {
   "cell_type": "code",
   "execution_count": null,
   "id": "8cad073f",
   "metadata": {},
   "outputs": [],
   "source": []
  },
  {
   "cell_type": "code",
   "execution_count": null,
   "id": "7d1795f3",
   "metadata": {},
   "outputs": [],
   "source": [
    "# Given two strings x, y writes a program to return a new string made of x and y’s first, middle, and last character\n",
    "#Example:Input X=” pytho” Y=” javas”\n",
    "#Output ” pjtvos”"
   ]
  },
  {
   "cell_type": "code",
   "execution_count": 13,
   "id": "eb74ff66",
   "metadata": {},
   "outputs": [
    {
     "name": "stdout",
     "output_type": "stream",
     "text": [
      "Enter a string: \"VIGNESH\"\n",
      "Enter a string: \"YADAV\"\n",
      "\"\"ND\"\"\n"
     ]
    }
   ],
   "source": [
    "x=input(\"Enter a string: \")\n",
    "y=input(\"Enter a string: \")\n",
    "a=len(x)//2\n",
    "b=len(y)//2\n",
    "print(x[0]+y[0]+x[a]+y[b]+x[-1]+y[-1])"
   ]
  },
  {
   "cell_type": "code",
   "execution_count": null,
   "id": "1fe97b96",
   "metadata": {},
   "outputs": [],
   "source": []
  },
  {
   "cell_type": "code",
   "execution_count": null,
   "id": "5d4b5199",
   "metadata": {},
   "outputs": [],
   "source": [
    "# Write a python program to take three names as input from a user in the single input () function call"
   ]
  },
  {
   "cell_type": "code",
   "execution_count": 16,
   "id": "51c03933",
   "metadata": {},
   "outputs": [
    {
     "name": "stdout",
     "output_type": "stream",
     "text": [
      "enter 3 names : HARSHA VIGNESH RAGHU\n",
      "name1:- HARSHA \n",
      "name2:- VIGNESH \n",
      "name3:- RAGHU\n"
     ]
    }
   ],
   "source": [
    "n=input(\"enter 3 names : \")\n",
    "for y in range(0,3):\n",
    "    z=n.split(\" \")\n",
    "print(\"name1:-\",z[0],\"\\nname2:-\",z[1],\"\\nname3:-\",z[2])"
   ]
  },
  {
   "cell_type": "code",
   "execution_count": null,
   "id": "ede2bda1",
   "metadata": {},
   "outputs": [],
   "source": []
  },
  {
   "cell_type": "code",
   "execution_count": null,
   "id": "6f7195bd",
   "metadata": {},
   "outputs": [],
   "source": [
    "#Write a Python program to get a string from a given string where all occurrences of its first char have been changed to '@',"
   ]
  },
  {
   "cell_type": "code",
   "execution_count": 17,
   "id": "ce39729a",
   "metadata": {},
   "outputs": [
    {
     "name": "stdout",
     "output_type": "stream",
     "text": [
      "enter a String: \"AKSHITHA\n",
      "\"AKSHITHA\n"
     ]
    }
   ],
   "source": [
    "x=input(\"enter a String: \")\n",
    "a=x[0]\n",
    "for y in range(1,len(x)):\n",
    "    if x[y]==x[0]:\n",
    "        a+=\"@\"\n",
    "    else:\n",
    "        a+=x[y]\n",
    "print(a)"
   ]
  },
  {
   "cell_type": "code",
   "execution_count": null,
   "id": "0d574ae8",
   "metadata": {},
   "outputs": [],
   "source": []
  },
  {
   "cell_type": "code",
   "execution_count": null,
   "id": "9db34a9b",
   "metadata": {},
   "outputs": [],
   "source": [
    "# Write a Python program to add 'ing' at the end of a given string (string length should be equal to or more than 3).\n",
    "#   If the given string already ends with 'ing' then add 'ly' instead. \n",
    "#   If the string length of the given string is less than 3, leave it unchanged"
   ]
  },
  {
   "cell_type": "code",
   "execution_count": 19,
   "id": "6d3054bd",
   "metadata": {},
   "outputs": [
    {
     "name": "stdout",
     "output_type": "stream",
     "text": [
      "enter a string : \"VIGNESH\"\n",
      "\"VIGNESH\"ing\n"
     ]
    }
   ],
   "source": [
    "x=input(\"enter a string : \")\n",
    "y=\" \"\n",
    "if len(x)>=3 and x.endswith(\"ing\"):\n",
    "    a=x.strip(\"ing\")\n",
    "    y=a+\"ly\"\n",
    "\n",
    "elif len(x)<3:\n",
    "    y=x\n",
    "else :\n",
    "    y=x+\"ing\"\n",
    "print(y)    \n",
    "    "
   ]
  },
  {
   "cell_type": "code",
   "execution_count": null,
   "id": "668bd3c7",
   "metadata": {},
   "outputs": [],
   "source": []
  },
  {
   "cell_type": "code",
   "execution_count": null,
   "id": "37113f30",
   "metadata": {},
   "outputs": [],
   "source": [
    "# Write a python program that accepts three inputs x, y and z print True if x*y>z otherwise False"
   ]
  },
  {
   "cell_type": "code",
   "execution_count": 23,
   "id": "c65ec811",
   "metadata": {},
   "outputs": [
    {
     "name": "stdout",
     "output_type": "stream",
     "text": [
      "enter the first number : 5\n",
      "enter the second value : 6\n",
      "enter the third value :  25\n",
      "True\n",
      "enter the first number : 5\n",
      "enter the second value : 6\n",
      "enter the third value :  25\n",
      "True\n"
     ]
    }
   ],
   "source": [
    "a=0\n",
    "while a<=1:\n",
    "    x=int(input(\"enter the first number : \"))\n",
    "    y=int(input(\"enter the second value : \"))\n",
    "    z=int(input(\"enter the third value :  \"))\n",
    "    product=x*y\n",
    "    if product>z:\n",
    "        print(True)\n",
    "    else:\n",
    "        print(False)\n",
    "    a+=1"
   ]
  },
  {
   "cell_type": "code",
   "execution_count": null,
   "id": "cd8ac04b",
   "metadata": {},
   "outputs": [],
   "source": []
  },
  {
   "cell_type": "code",
   "execution_count": null,
   "id": "c4afea38",
   "metadata": {},
   "outputs": [],
   "source": [
    "# Write a python program that accepts two inputs num1 and num2 print True if one of them is 10 or if their sum is 10\n",
    "#otherwise print False"
   ]
  },
  {
   "cell_type": "code",
   "execution_count": 24,
   "id": "ded05175",
   "metadata": {},
   "outputs": [
    {
     "name": "stdout",
     "output_type": "stream",
     "text": [
      "enter the first number : 5\n",
      "enter the second number: 5\n",
      "False\n"
     ]
    }
   ],
   "source": [
    "um1=int(input(\"enter the first number : \"))\n",
    "num2=int(input(\"enter the second number: \"))\n",
    "if num1==10 or num2==10 or num1+num2==10:\n",
    "    print(True)\n",
    "else:\n",
    "    print(False)"
   ]
  },
  {
   "cell_type": "code",
   "execution_count": null,
   "id": "20e54fb0",
   "metadata": {},
   "outputs": [],
   "source": []
  },
  {
   "cell_type": "code",
   "execution_count": null,
   "id": "526ef384",
   "metadata": {},
   "outputs": [],
   "source": [
    "#15 Write a python program that takes a string input, we'll say that the front is the first three characters of the string. \n",
    "#If the string length is less than three characters, the front is whatever is there. \n",
    "#Return a new string, which is three copies of the front"
   ]
  },
  {
   "cell_type": "code",
   "execution_count": 25,
   "id": "f43fb67e",
   "metadata": {},
   "outputs": [
    {
     "name": "stdout",
     "output_type": "stream",
     "text": [
      "enter a string : \"VIGNESH\"\n",
      "\"VIGNESH\"\n",
      "enter a string : \"YADAV\"\n",
      "\"YADAV\"\n"
     ]
    }
   ],
   "source": [
    "a=0\n",
    "while a<=1:\n",
    "    x=input(\"enter a string : \")\n",
    "    if len(x)<3:\n",
    "        print(x*3)\n",
    "    else:\n",
    "        print(x)\n",
    "    a+=1   "
   ]
  },
  {
   "cell_type": "code",
   "execution_count": null,
   "id": "4ba3bb99",
   "metadata": {},
   "outputs": [],
   "source": []
  },
  {
   "cell_type": "code",
   "execution_count": null,
   "id": "03427b78",
   "metadata": {},
   "outputs": [],
   "source": [
    "#17 A bartender is writing a simple program to determine whether he should serve drinks to someone. \n",
    "#He only serves drinks to people 18 and older and when he's not on break(True means break and False means not a break time).\n",
    "#Given the person's age, and whether break time is in session, create a python program which prints whether he should serve "
   ]
  },
  {
   "cell_type": "code",
   "execution_count": 26,
   "id": "64b9efcb",
   "metadata": {},
   "outputs": [
    {
     "name": "stdout",
     "output_type": "stream",
     "text": [
      "enter the age : 25\n",
      "Give true if it is break time else false:25\n",
      "do not serve the drink\n",
      "enter the age : 25\n",
      "Give true if it is break time else false:TRUE\n",
      "do not serve the drink\n"
     ]
    }
   ],
   "source": [
    "a=0\n",
    "while a<=1:\n",
    "    x=int(input(\"enter the age : \"))\n",
    "    y=input(\"Give true if it is break time else false:\")\n",
    "    if x>=18 and y==\"true\":\n",
    "        print(\"serve the drink\")\n",
    "    else:\n",
    "        print(\"do not serve the drink\")\n",
    "    a+=1     "
   ]
  },
  {
   "cell_type": "code",
   "execution_count": null,
   "id": "650bf001",
   "metadata": {},
   "outputs": [],
   "source": []
  },
  {
   "cell_type": "code",
   "execution_count": null,
   "id": "7abc27cf",
   "metadata": {},
   "outputs": [],
   "source": [
    "#17 Write a python program that takes a string, breaks it up and returns it with vowels first, consonants second. \n",
    "#For any character that's not a vowel (like special characters or spaces), treat them like consonants"
   ]
  },
  {
   "cell_type": "code",
   "execution_count": 27,
   "id": "236ddfc4",
   "metadata": {},
   "outputs": [
    {
     "name": "stdout",
     "output_type": "stream",
     "text": [
      "Enter a string: \"Vignesh\"\n",
      "Vowels: ie\n",
      "Consonants: \"Vgnsh\"\n"
     ]
    }
   ],
   "source": [
    "x=input(\"Enter a string: \")\n",
    "vow=\"\";con=\"\"\n",
    "for y in range(0,len(x)):\n",
    "    if x[y]==\"a\" or x[y]==\"e\" or x[y]==\"i\" or x[y]==\"o\" or x[y]==\"u\" or x[y]==\"A\" or x[y]==\"E\" or x[y]==\"I\" or x[y]==\"O\" or x[y]==\"U\":\n",
    "        vow+=x[y]\n",
    "    else:\n",
    "        con+=x[y]\n",
    "print(\"Vowels: \"+vow+\"\\nConsonants: \"+con)"
   ]
  },
  {
   "cell_type": "code",
   "execution_count": null,
   "id": "436834a3",
   "metadata": {},
   "outputs": [],
   "source": []
  }
 ],
 "metadata": {
  "kernelspec": {
   "display_name": "Python 3 (ipykernel)",
   "language": "python",
   "name": "python3"
  },
  "language_info": {
   "codemirror_mode": {
    "name": "ipython",
    "version": 3
   },
   "file_extension": ".py",
   "mimetype": "text/x-python",
   "name": "python",
   "nbconvert_exporter": "python",
   "pygments_lexer": "ipython3",
   "version": "3.10.9"
  }
 },
 "nbformat": 4,
 "nbformat_minor": 5
}
