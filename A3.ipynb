{
 "cells": [
  {
   "cell_type": "code",
   "execution_count": null,
   "id": "61a12b8e",
   "metadata": {},
   "outputs": [],
   "source": [
    "#1 Write a Python program that prints all the numbers from 0 to 6 except 3 and 6"
   ]
  },
  {
   "cell_type": "code",
   "execution_count": 3,
   "id": "87aafeb9",
   "metadata": {},
   "outputs": [
    {
     "name": "stdout",
     "output_type": "stream",
     "text": [
      "0\n",
      "1\n",
      "2\n",
      "4\n"
     ]
    }
   ],
   "source": [
    "for x in range(0,5):\n",
    "    if x%3==0 and x!=0:\n",
    "        continue\n",
    "    else:\n",
    "         print(x)"
   ]
  },
  {
   "cell_type": "code",
   "execution_count": null,
   "id": "596f0727",
   "metadata": {},
   "outputs": [],
   "source": []
  },
  {
   "cell_type": "code",
   "execution_count": null,
   "id": "fde8ea85",
   "metadata": {},
   "outputs": [],
   "source": [
    "#2 Write a program to accept a number from a user and calculate the sum of all numbers from 1 to a given number"
   ]
  },
  {
   "cell_type": "code",
   "execution_count": 4,
   "id": "060aa917",
   "metadata": {},
   "outputs": [
    {
     "name": "stdout",
     "output_type": "stream",
     "text": [
      "Enter a number: 5\n",
      "Sum of numbers from 1 to 5 is: 15\n"
     ]
    }
   ],
   "source": [
    "num = int(input(\"Enter a number: \"))\n",
    "\n",
    "sum_of_numbers = 0\n",
    "\n",
    "for i in range(1, num + 1):\n",
    "    sum_of_numbers += i\n",
    "\n",
    "print(\"Sum of numbers from 1 to\", num, \"is:\", sum_of_numbers)"
   ]
  },
  {
   "cell_type": "code",
   "execution_count": null,
   "id": "400780fb",
   "metadata": {},
   "outputs": [],
   "source": []
  },
  {
   "cell_type": "code",
   "execution_count": 5,
   "id": "bc51affa",
   "metadata": {},
   "outputs": [
    {
     "name": "stdout",
     "output_type": "stream",
     "text": [
      "enter the multiplication you want : 5\n",
      "how many values you want to go : 10\n",
      "5*1=5\n",
      "5*2=10\n",
      "5*3=15\n",
      "5*4=20\n",
      "5*5=25\n",
      "5*6=30\n",
      "5*7=35\n",
      "5*8=40\n",
      "5*9=45\n",
      "5*10=50\n"
     ]
    }
   ],
   "source": [
    "#3 Write a program to print multiplication table of a given number(input)\n",
    "table=int(input(\"enter the multiplication you want : \"))\n",
    "value=int(input(\"how many values you want to go : \"))\n",
    "for y in range(1,value+1):\n",
    "    print(\"{}*{}={}\".format(table,y,table*y))"
   ]
  },
  {
   "cell_type": "code",
   "execution_count": null,
   "id": "2a74015d",
   "metadata": {},
   "outputs": [],
   "source": []
  },
  {
   "cell_type": "code",
   "execution_count": null,
   "id": "f271bf0a",
   "metadata": {},
   "outputs": [],
   "source": [
    "#4 Write a program to count the total number of digits in a number using a while loop."
   ]
  },
  {
   "cell_type": "code",
   "execution_count": 6,
   "id": "890aa3b9",
   "metadata": {},
   "outputs": [
    {
     "name": "stdout",
     "output_type": "stream",
     "text": [
      "Enter a digit: 5\n",
      "Total number of digits: 1\n"
     ]
    }
   ],
   "source": [
    "x=input(\"Enter a digit: \")\n",
    "y=0\n",
    "while y<len(x):\n",
    "    y+=1\n",
    "print(\"Total number of digits: \"+str(y))"
   ]
  },
  {
   "cell_type": "code",
   "execution_count": null,
   "id": "3aea1b73",
   "metadata": {},
   "outputs": [],
   "source": []
  },
  {
   "cell_type": "code",
   "execution_count": null,
   "id": "a38af6c3",
   "metadata": {},
   "outputs": [],
   "source": [
    "#6 Write a Python program which iterates the integers from 1 to 60. \n",
    "#For multiples of three print \"Fizz\" instead of the number and for the multiples of five print \"Buzz\". \n",
    "#For numbers which are multiples of both three and five print \"FizzBuzz\"."
   ]
  },
  {
   "cell_type": "code",
   "execution_count": 8,
   "id": "93739c52",
   "metadata": {},
   "outputs": [
    {
     "name": "stdout",
     "output_type": "stream",
     "text": [
      "Fixx\n",
      "4\n",
      "Buxx\n",
      "Fixx\n",
      "7\n",
      "8\n",
      "Fixx\n",
      "Buxx\n",
      "11\n",
      "Fixx\n",
      "13\n",
      "14\n",
      "FixxBuxx\n",
      "16\n",
      "17\n",
      "Fixx\n",
      "19\n",
      "Buxx\n",
      "Fixx\n",
      "22\n",
      "23\n",
      "Fixx\n",
      "Buxx\n",
      "26\n",
      "Fixx\n",
      "28\n",
      "29\n",
      "FixxBuxx\n",
      "31\n",
      "32\n",
      "Fixx\n",
      "34\n",
      "Buxx\n",
      "Fixx\n",
      "37\n",
      "38\n"
     ]
    }
   ],
   "source": [
    "for x in range(3,39):\n",
    "    if x%3==0 and x%5==0:\n",
    "        print(\"FixxBuxx\")\n",
    "    elif x%3==0:\n",
    "        print(\"Fixx\")\n",
    "    elif x%5==0:\n",
    "        print(\"Buxx\")\n",
    "    else: \n",
    "        print(x)"
   ]
  },
  {
   "cell_type": "code",
   "execution_count": null,
   "id": "01fa670b",
   "metadata": {},
   "outputs": [],
   "source": []
  },
  {
   "cell_type": "code",
   "execution_count": null,
   "id": "c8b48ef0",
   "metadata": {},
   "outputs": [],
   "source": [
    "#7 Write a Python program that accepts a string and calculate the number of digits and letters"
   ]
  },
  {
   "cell_type": "code",
   "execution_count": 9,
   "id": "3caf12b8",
   "metadata": {},
   "outputs": [
    {
     "name": "stdout",
     "output_type": "stream",
     "text": [
      "Enter a string: \"Akshu\"\n",
      "Letters: 5\n",
      "Digits: 0\n"
     ]
    }
   ],
   "source": [
    "y=input(\"Enter a string: \")\n",
    "a=0 \n",
    "b=0\n",
    "for x in range(0,len(y)):\n",
    "    if y[x].isalpha():\n",
    "        a+=1\n",
    "    elif y[x].isdigit():\n",
    "        b+=1\n",
    "    else:\n",
    "        continue\n",
    "print(\"Letters: \"+str(a)+\"\\nDigits: \"+str(b))"
   ]
  },
  {
   "cell_type": "code",
   "execution_count": null,
   "id": "a71f65d1",
   "metadata": {},
   "outputs": [],
   "source": []
  },
  {
   "cell_type": "code",
   "execution_count": null,
   "id": "48087880",
   "metadata": {},
   "outputs": [],
   "source": [
    "# Write a Python program to check the validity of password input by users.\n",
    "#Validation:\n",
    "#At least 1 letter between [a-z] and 1 letter between [A-Z].\n",
    "#At least 1 number between [0-9]. \n",
    "#At least 1 character from [$#@].\n",
    "#Minimum length 6 characters.\n",
    "#Maximum length 16 characters"
   ]
  },
  {
   "cell_type": "code",
   "execution_count": 10,
   "id": "a8bf14bb",
   "metadata": {},
   "outputs": [
    {
     "name": "stdout",
     "output_type": "stream",
     "text": [
      "Password: password\n",
      "Valid Password\n"
     ]
    }
   ],
   "source": [
    "x=input(\"Password: \")\n",
    "a=\"\"\n",
    "for y in range(0,len(x)):\n",
    "    if x[y].isalpha() and x[y].isupper() and x[y].isdigit and x[y]==\"$\" or x[y]==\"#\" or x[y]==\"@\":\n",
    "        a+=1\n",
    "    else:\n",
    "        break\n",
    "if 6<=len(x)<=16:\n",
    "        print(\"Valid Password\")    \n",
    "else:\n",
    "    print(\"Invalid Password\")"
   ]
  },
  {
   "cell_type": "code",
   "execution_count": null,
   "id": "19940685",
   "metadata": {},
   "outputs": [],
   "source": [
    "\n"
   ]
  },
  {
   "cell_type": "code",
   "execution_count": null,
   "id": "99217eca",
   "metadata": {},
   "outputs": [],
   "source": [
    "#9 Write a program in Python to reverse a word by using while loop"
   ]
  },
  {
   "cell_type": "code",
   "execution_count": 11,
   "id": "6244bdb7",
   "metadata": {},
   "outputs": [
    {
     "name": "stdout",
     "output_type": "stream",
     "text": [
      "enter  a string: \"vignesh\"\n",
      "\"hsengiv\"\n"
     ]
    }
   ],
   "source": [
    "x=input(\"enter  a string: \")\n",
    "y=\"\"\n",
    "z=1\n",
    "while z<len(x)+1:\n",
    "    y+=x[-z]\n",
    "    z+=1\n",
    "print(y)\n"
   ]
  },
  {
   "cell_type": "code",
   "execution_count": null,
   "id": "bc4592c3",
   "metadata": {},
   "outputs": [],
   "source": []
  },
  {
   "cell_type": "code",
   "execution_count": null,
   "id": "2d88dad6",
   "metadata": {},
   "outputs": [],
   "source": [
    "#10 Write a program which takes integer inputs from user until he/she presses “q” (Ask to press q to quit after every integer input). \n",
    "#Print average and product of all numbers."
   ]
  },
  {
   "cell_type": "code",
   "execution_count": null,
   "id": "c0341ce0",
   "metadata": {},
   "outputs": [],
   "source": [
    "a=0\n",
    "b=1\n",
    "x=0\n",
    "while x>=0:\n",
    "    y=int(input(\"enter a number: \"))\n",
    "    a+=y\n",
    "    b*=y\n",
    "    z=input(\"enter q to quit or enter n to continue: \")\n",
    "    if z==\"q\":\n",
    "        break\n",
    "    else:\n",
    "        continue\n",
    "    x+=1\n"
   ]
  },
  {
   "cell_type": "code",
   "execution_count": null,
   "id": "65b3b15c",
   "metadata": {},
   "outputs": [],
   "source": []
  },
  {
   "cell_type": "code",
   "execution_count": null,
   "id": "12961ee4",
   "metadata": {},
   "outputs": [],
   "source": [
    "#12 Write a Python program which will remove all digits or any other characters from the string except alphabets"
   ]
  },
  {
   "cell_type": "code",
   "execution_count": 1,
   "id": "1853307d",
   "metadata": {},
   "outputs": [
    {
     "name": "stdout",
     "output_type": "stream",
     "text": [
      "Enter a string: \"vignesh\"\n",
      "vignesh\n"
     ]
    }
   ],
   "source": [
    "x=input(\"Enter a string: \")\n",
    "a=\"\"\n",
    "for y in range(0,len(x)):\n",
    "    if x[y].isalpha():\n",
    "        a+=x[y]\n",
    "    else:\n",
    "        continue\n",
    "print(a)\n"
   ]
  },
  {
   "cell_type": "code",
   "execution_count": null,
   "id": "70622d70",
   "metadata": {},
   "outputs": [],
   "source": []
  }
 ],
 "metadata": {
  "kernelspec": {
   "display_name": "Python 3 (ipykernel)",
   "language": "python",
   "name": "python3"
  },
  "language_info": {
   "codemirror_mode": {
    "name": "ipython",
    "version": 3
   },
   "file_extension": ".py",
   "mimetype": "text/x-python",
   "name": "python",
   "nbconvert_exporter": "python",
   "pygments_lexer": "ipython3",
   "version": "3.10.9"
  }
 },
 "nbformat": 4,
 "nbformat_minor": 5
}
