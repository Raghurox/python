{
 "cells": [
  {
   "cell_type": "code",
   "execution_count": null,
   "id": "631ed7cd",
   "metadata": {},
   "outputs": [],
   "source": [
    " Write a python program to convert a string to \n",
    "lower case "
   ]
  },
  {
   "cell_type": "code",
   "execution_count": 4,
   "id": "c072af92",
   "metadata": {},
   "outputs": [
    {
     "data": {
      "text/plain": [
       "'manne vignesh'"
      ]
     },
     "execution_count": 4,
     "metadata": {},
     "output_type": "execute_result"
    }
   ],
   "source": [
    "x=\"MANNE VIGNESH\"\n",
    "x.lower()"
   ]
  },
  {
   "cell_type": "code",
   "execution_count": null,
   "id": "aec725ca",
   "metadata": {},
   "outputs": [],
   "source": []
  },
  {
   "cell_type": "code",
   "execution_count": null,
   "id": "ed0991fd",
   "metadata": {},
   "outputs": [],
   "source": []
  },
  {
   "cell_type": "code",
   "execution_count": null,
   "id": "9a064f6c",
   "metadata": {},
   "outputs": [],
   "source": [
    "Write a python program to convert only odd\n",
    "indexed characters to lower case\n",
    "Ex:- PYTHON\n",
    "Output: - PyThOn"
   ]
  },
  {
   "cell_type": "code",
   "execution_count": 2,
   "id": "d3793cbd",
   "metadata": {},
   "outputs": [
    {
     "name": "stdout",
     "output_type": "stream",
     "text": [
      "PyThOn"
     ]
    }
   ],
   "source": [
    "x=0\n",
    "while x<=0:\n",
    "    print(\"P\",end=\"\") \n",
    "    y=1\n",
    "    while y==1:\n",
    "        print(\"y\",end=\"\")\n",
    "        y=y+1\n",
    "    t=2\n",
    "    while t==2:\n",
    "        print(\"T\",end=\"\")\n",
    "        t=t+1\n",
    "    h=3\n",
    "    while h==3:\n",
    "        print(\"h\",end=\"\")\n",
    "        h=h+1\n",
    "    \n",
    "    t=4\n",
    "    while t==4:\n",
    "        print(\"O\",end=\"\")\n",
    "        t=t+1\n",
    "    N=5\n",
    "    while N==5:\n",
    "        print(\"n\",end=\"\")\n",
    "        N=N+1\n",
    "        \n",
    "    x=x+1\n"
   ]
  },
  {
   "cell_type": "code",
   "execution_count": null,
   "id": "79ea2707",
   "metadata": {},
   "outputs": [],
   "source": []
  },
  {
   "cell_type": "code",
   "execution_count": null,
   "id": "85d29da2",
   "metadata": {},
   "outputs": [],
   "source": [
    "3Q Write a python program to convert only even \n",
    "indexed characters to  lower case  \n",
    " Ex:- PYTHON \n",
    " Output: - pYtHoN"
   ]
  },
  {
   "cell_type": "code",
   "execution_count": null,
   "id": "ee533dfe",
   "metadata": {},
   "outputs": [],
   "source": []
  },
  {
   "cell_type": "code",
   "execution_count": 12,
   "id": "93dccb57",
   "metadata": {},
   "outputs": [
    {
     "name": "stdout",
     "output_type": "stream",
     "text": [
      "pYtHoN"
     ]
    }
   ],
   "source": [
    "x=0\n",
    "while x<=0:\n",
    "    print(\"p\",end=\"\") \n",
    "    y=1\n",
    "    while y==1:\n",
    "        print(\"Y\",end=\"\")\n",
    "        y=y+1\n",
    "    t=2\n",
    "    while t==2:\n",
    "        print(\"t\",end=\"\")\n",
    "        t=t+1\n",
    "    h=3\n",
    "    while h==3:\n",
    "        print(\"H\",end=\"\")\n",
    "        h=h+1\n",
    "    \n",
    "    t=4\n",
    "    while t==4:\n",
    "        print(\"o\",end=\"\")\n",
    "        t=t+1\n",
    "    N=5\n",
    "    while N==5:\n",
    "        print(\"N\",end=\"\")\n",
    "        N=N+1\n",
    "        \n",
    "    x=x+1\n"
   ]
  },
  {
   "cell_type": "code",
   "execution_count": null,
   "id": "589c1d62",
   "metadata": {},
   "outputs": [],
   "source": []
  },
  {
   "cell_type": "code",
   "execution_count": null,
   "id": "a766a464",
   "metadata": {},
   "outputs": [],
   "source": [
    " Write a python program to convert only odd \n",
    "indexed characters to  upper case  \n",
    " Ex:- python \n",
    " Output: - pYtHoN "
   ]
  },
  {
   "cell_type": "code",
   "execution_count": 5,
   "id": "e3510806",
   "metadata": {},
   "outputs": [
    {
     "name": "stdout",
     "output_type": "stream",
     "text": [
      "enter any wordPYTHON\n",
      "pYtHoN\n"
     ]
    }
   ],
   "source": [
    "x=input(\"enter any word\")\n",
    "y=\"\"\n",
    "for j in range(0,len(x)):\n",
    "    if j%2==0:\n",
    "        y+=x[j].lower()\n",
    "    else:\n",
    "        y+=x[j]\n",
    "        \n",
    "print(y)\n",
    "\n",
    "              \n"
   ]
  },
  {
   "cell_type": "code",
   "execution_count": null,
   "id": "35cafe85",
   "metadata": {},
   "outputs": [],
   "source": []
  },
  {
   "cell_type": "code",
   "execution_count": 7,
   "id": "2c64e2d4",
   "metadata": {},
   "outputs": [
    {
     "name": "stdout",
     "output_type": "stream",
     "text": [
      "enter any wordPYTHON\n",
      "PyThOn\n"
     ]
    }
   ],
   "source": [
    "x=input(\"enter any word\")\n",
    "y=\"\"\n",
    "for j in range(0,len(x)):\n",
    "    if j%2!=0:\n",
    "        y+=x[j].lower()\n",
    "    else:\n",
    "        y+=x[j]\n",
    "        \n",
    "print(y)\n"
   ]
  },
  {
   "cell_type": "code",
   "execution_count": null,
   "id": "68d7c04b",
   "metadata": {},
   "outputs": [],
   "source": []
  },
  {
   "cell_type": "code",
   "execution_count": null,
   "id": "b5ec8e4f",
   "metadata": {},
   "outputs": [],
   "source": [
    ". Write a python program where you have \n",
    "different variable which contains your name \n",
    ",sex,age, phone no ,fathers name and mothers \n",
    "name.And by using this variable create a \n",
    "             Task -1                          (Strange Coder) variable named bio-data where you will use all \n",
    "this variable \n",
    "Ex:-print(bio-data) \n",
    "Output:-  My name is …., My age is ….,My \n",
    "phone-no is ….,my fathers name is …,and my \n",
    "mothers name is…… "
   ]
  },
  {
   "cell_type": "code",
   "execution_count": null,
   "id": "f426b5d2",
   "metadata": {},
   "outputs": [],
   "source": []
  },
  {
   "cell_type": "code",
   "execution_count": 9,
   "id": "394b7465",
   "metadata": {},
   "outputs": [
    {
     "name": "stdout",
     "output_type": "stream",
     "text": [
      "type your first_namemanne\n",
      "type your second_namevignesh\n",
      "type your age25\n",
      "type your gendermale\n",
      "type your weight85\n",
      "type your height182.3\n",
      "type your number7386827774\n",
      "mynamemannevignesh\n",
      " Age25\n",
      " gendermale\n",
      " weight85.0\n",
      " height182.3\n",
      " Phone_number7386827774\n"
     ]
    }
   ],
   "source": [
    "first_name=input(\"type your first_name\")\n",
    "last_name=input(\"type your second_name\")\n",
    "Age=int(input(\"type your age\"))\n",
    "gender=input(\"type your gender\")\n",
    "weight=float(input(\"type your weight\"))\n",
    "height=float(input(\"type your height\"))\n",
    "Phone_number=int(input(\"type your number\"))\n",
    "bio=\"myname{}\\n Age{}\\n gender{}\\n weight{}\\n height{}\\n Phone_number{}\"\n",
    "print(bio.format(first_name+last_name,Age,gender,weight,height,Phone_number))"
   ]
  },
  {
   "cell_type": "code",
   "execution_count": null,
   "id": "368db2ed",
   "metadata": {},
   "outputs": [],
   "source": []
  },
  {
   "cell_type": "code",
   "execution_count": null,
   "id": "cacac423",
   "metadata": {},
   "outputs": [],
   "source": [
    " Write a python program to count how many \n",
    "times “@” occurred "
   ]
  },
  {
   "cell_type": "code",
   "execution_count": 10,
   "id": "3a3f1bbe",
   "metadata": {},
   "outputs": [
    {
     "name": "stdout",
     "output_type": "stream",
     "text": [
      "Please enter any string consisting '@' in order to count its occurence harsha@ raghu@ vignesh@\n",
      "3\n"
     ]
    }
   ],
   "source": [
    "x=input(\"Please enter any string consisting '@' in order to count its occurence \")\n",
    "print(str(x.count(\"@\")))"
   ]
  },
  {
   "cell_type": "code",
   "execution_count": null,
   "id": "91fbf93c",
   "metadata": {},
   "outputs": [],
   "source": []
  },
  {
   "cell_type": "code",
   "execution_count": null,
   "id": "cef08513",
   "metadata": {},
   "outputs": [],
   "source": [
    "8. Write a python program to get only names from \n",
    "the string \n",
    "“name1.@gmail.com,name2.@gmail.com,name\n",
    "3.@gmail.com” \n",
    "Output-name1,name2,name3 "
   ]
  },
  {
   "cell_type": "code",
   "execution_count": 13,
   "id": "231a7225",
   "metadata": {},
   "outputs": [],
   "source": [
    "x=(\"name1.@gmail.com,name2.@gmail.com,name3.@gmail.com\") "
   ]
  },
  {
   "cell_type": "code",
   "execution_count": 16,
   "id": "db0a48ee",
   "metadata": {},
   "outputs": [
    {
     "data": {
      "text/plain": [
       "'name1.@gmail.com,name2.@gmail.com,name3'"
      ]
     },
     "execution_count": 16,
     "metadata": {},
     "output_type": "execute_result"
    }
   ],
   "source": [
    "x.strip(\".@gmail.com\")"
   ]
  },
  {
   "cell_type": "code",
   "execution_count": 18,
   "id": "ac62b751",
   "metadata": {},
   "outputs": [
    {
     "data": {
      "text/plain": [
       "['name1', ',name2', ',name3', '']"
      ]
     },
     "execution_count": 18,
     "metadata": {},
     "output_type": "execute_result"
    }
   ],
   "source": [
    "x.split(\".@gmail.com\")"
   ]
  },
  {
   "cell_type": "code",
   "execution_count": null,
   "id": "8bb77c99",
   "metadata": {},
   "outputs": [],
   "source": []
  },
  {
   "cell_type": "code",
   "execution_count": null,
   "id": "696bc022",
   "metadata": {},
   "outputs": [],
   "source": [
    "9. Given a string of odd length greater that 9, \n",
    "return a new string   made of the middle three \n",
    "characters of a given String \n",
    "Ex:- “mynameissan \n",
    "Output:- “mei” \n",
    " \n",
    " "
   ]
  },
  {
   "cell_type": "code",
   "execution_count": null,
   "id": "5434bf28",
   "metadata": {},
   "outputs": [],
   "source": [
    "10."
   ]
  }
 ],
 "metadata": {
  "kernelspec": {
   "display_name": "Python 3 (ipykernel)",
   "language": "python",
   "name": "python3"
  },
  "language_info": {
   "codemirror_mode": {
    "name": "ipython",
    "version": 3
   },
   "file_extension": ".py",
   "mimetype": "text/x-python",
   "name": "python",
   "nbconvert_exporter": "python",
   "pygments_lexer": "ipython3",
   "version": "3.10.9"
  }
 },
 "nbformat": 4,
 "nbformat_minor": 5
}
